{
 "cells": [
  {
   "cell_type": "markdown",
   "id": "8c3f672b-c389-4fd2-90a9-75765e9e36e4",
   "metadata": {},
   "source": [
    "# Introducción\n",
    "\n",
    "Apuntes de probabilidad y estadística, basado en la lectura del libro [All of Statistics](https://link.springer.com/book/10.1007/978-0-387-21736-9), de Larry Wasserman\n",
    "\n",
    "En este notebook se resumen conceptos básicos de probabilidad y estadística, y se implementan algunas funciones a modo ilustrativo.\n",
    "\n",
    "Fecha original de realización: de finales de 2015 a principios de 2016.\n",
    "Pasado a formato notebook a principios de 2022."
   ]
  },
  {
   "cell_type": "code",
   "execution_count": 2,
   "id": "77df3ae1-77c1-4b03-8b76-358584261bac",
   "metadata": {},
   "outputs": [],
   "source": [
    "# importaciones\n",
    "import numpy as np\n",
    "from scipy.stats import randint\n",
    "\n",
    "np.random.seed(42)  # fijamos una semilla aleatoria"
   ]
  },
  {
   "cell_type": "markdown",
   "id": "6fe34db8-ddcf-4420-87aa-6c7d3b911622",
   "metadata": {},
   "source": [
    "# Probabilidad (Capítulo 2)"
   ]
  },
  {
   "cell_type": "markdown",
   "id": "85021610-6d24-4492-96a1-06b5a5a33c0d",
   "metadata": {},
   "source": [
    "## Conceptos importantes\n",
    "\n",
    "* Espacio de eventos $\\Omega$: es el conjunto de todas las salidas posibles $\\omega \\in \\Omega$ de un experimento.\n",
    "* Un evento es un subconjunto $A \\subseteq \\Omega$, por ejemplo, la cantidad de eventos en donde el lanzamiento de un dado incluye un número par (de la misma forma, se define el complemento $A^C$, que incluye todos los eventos del espacio excepto por $A$). De la misma forma, dados dos eventos $A_i$ y $A_j$, se definen operaciones como su unión $A_i \\cup A_j$ e intersección $A_i \\cap A_j$."
   ]
  },
  {
   "cell_type": "markdown",
   "id": "5ae868db-87b1-44c0-a2c4-4d302cbe6902",
   "metadata": {},
   "source": [
    "Una *partición* de $\\Omega$ es una secuencia de conjuntos disjuntos, por ejemplo $A_1, A_2, \\dots, A_k$, tal que $\\cup_{i=1}^k A_i = \\Omega$."
   ]
  },
  {
   "cell_type": "markdown",
   "id": "281028ee-6828-4274-b03c-6e09588be681",
   "metadata": {},
   "source": [
    "Dado un evento $A$m se define como *indicator function* de $A$, a la función\n",
    "\n",
    "$I(\\omega \\in A) = 1 \\text{ si } \\omega \\in A, 0 \\text{ en caso contrario}$"
   ]
  },
  {
   "cell_type": "markdown",
   "id": "0d480e02-8e53-4a64-aa0a-e0b548391a9a",
   "metadata": {},
   "source": [
    "Cada evento$^{(1)}$ $A \\subseteq \\Omega$ tiene asignado un número real $P(A)$ llamado **probabilidad** de $A$. Llamamos $P$ a la distribución de probailidades (o *probability measure*).\n",
    "\n",
    "Para representar una probabilidad, $P$ debe satisfacer tres axiomas:\n",
    "\n",
    "1. $$P(A) \\geq 0, \\forall A$$\n",
    "1. $$P(\\Omega) = 1$$\n",
    "1. $$A_i \\cap A_j = \\emptyset \\Rightarrow P(A_i \\cup A_j) = P(A_i) + P(A_j), \\forall i,j$$\n",
    "\n",
    "$^{(1)}$ Si $\\Omega$ es muy grande, no siempre es posible asignar $P(A)$ a cada evento $A$; en cambio, se le asigna $P$ a una clase limitada de conjuntos $\\sigma$."
   ]
  },
  {
   "cell_type": "markdown",
   "id": "56741879-7f73-445e-a098-46d97f9d636c",
   "metadata": {},
   "source": [
    "Hay dos interpretaciones comunes de $P(A)$:\n",
    "\n",
    "* Es una **frecuencia**, donde $P(A)$ es la proporción a largo plazo en donde $A$ es verdadero (es decir, ocurre). Esta interpretación se conoce como [Frecuentista](https://en.wikipedia.org/wiki/Frequentist_probability).\n",
    "* Es un **grado de creencia**, donde $P(A)$ mide la creencia de un observador de que $A$ es verdadero. Esta es la interpretación [Bayesiana](https://en.wikipedia.org/wiki/Bayesian_statistics) de la probabilidad."
   ]
  },
  {
   "cell_type": "markdown",
   "id": "2f1d9bf3-8e90-4a9c-9eca-227ab264e998",
   "metadata": {},
   "source": [
    "Lema: $$\\forall A,B, P(A \\cup B) = P(A) + P(B) - P(A \\cap B)$$\n",
    "\n",
    "Teorema: $$\\text{si } A_n \\to A \\Rightarrow P(A_n) \\to P(A) \\text{ cuando n } \\to \\infty$$"
   ]
  },
  {
   "cell_type": "markdown",
   "id": "a0fb9be6-cc1f-4f6c-9107-2902e6fe871f",
   "metadata": {},
   "source": [
    "## Probabilidad en espacios finitos\n",
    "\n",
    "Si $\\Omega$ es finito y $P(\\omega_1) = \\dots = P(\\omega_n)$, entonces $P$ recibe el nombre de **distribución probabilística uniforme**, y está dada por\n",
    "\n",
    "$$P(A) = \\frac{|A|}{|\\Omega|}$$\n",
    "\n",
    "Para contar $A$, a veces es necesario utilizar métodos de conteo ([álgebra combinatoria](https://en.wikipedia.org/wiki/Algebraic_combinatorics))."
   ]
  },
  {
   "cell_type": "markdown",
   "id": "ee3f2a08-f05d-4dbb-9b2d-3308c1877dad",
   "metadata": {},
   "source": [
    "### Eventos independientes\n",
    "\n",
    "Dos eventos, $A$ y $B$ son independientes entre sí si $P(A \\cap B) = P(A) P(B)$\n",
    "\n",
    "Aclaración de notación: $P(A \\cap B)$ también se denota como $P(A,B)$ (en otras palabras, denota conjunción, haciendo referencia a \"la probabilidad de $A$ y $B$\")."
   ]
  },
  {
   "cell_type": "markdown",
   "id": "01b16ab1-e376-435d-a621-59f3a01c1856",
   "metadata": {},
   "source": [
    "### Probabilidad condicional\n",
    "\n",
    "La probabilidad de un evento $A$ dado un evento $B$, está dada por\n",
    "\n",
    "$$P(A \\mid B) = \\frac{P(A \\cap B)}{P(B)}$$\n",
    "\n",
    "Propiedades:\n",
    "\n",
    "* Si $P(B) > 0$, entonces $P(A \\mid B)$ satisface los tres axiomas de $P$.\n",
    "* Si $A_1, A_2, \\dots$ son disjuntos, entonces $$P(\\cup_{i=1} A_i \\mid B) = P(A_1 \\mid B) + P(A_2 \\mid B) + \\dots$$\n",
    "* No obstante, \"típicamente\", $$P(A \\mid B \\cup C) \\neq P(A \\mid B) + P(A \\mid C)$$\n",
    "\n",
    "Si $A, B$ son independientes, entonces $$P(A \\mid B) = \\frac{P(A,B)}{P(B)} = \\frac{P(A)P(B)}{P(B)}$$"
   ]
  },
  {
   "cell_type": "markdown",
   "id": "6b555d23-3073-4668-be58-b41e69e35e6a",
   "metadata": {},
   "source": [
    "Teorema: dados $A_1, \\dots, A_k$ particiones de $\\Omega$, se cumple que\n",
    "\n",
    "$$\\forall B, P(B) = \\sum_{i=1}^{k} P(B \\mid A_i)P(A_i)$$\n",
    "\n",
    "esto se conoce como **ley de probabilidad total**"
   ]
  },
  {
   "cell_type": "markdown",
   "id": "b0c9b9ac-0e43-4351-900f-e0b378749a00",
   "metadata": {},
   "source": [
    "**Teorema de Bayes**: $$P(A_i \\mid B) = \\frac{P(B \\mid A_i)P(A_i)}{P(B) = \\sum_{i=j}^{k} P(B \\mid A_j)P(A_j)}$$\n",
    "\n",
    "en donde $P(A_i)$ se denomina **probabilidad a priori** (o *prior*, en inglés), mientras que $P(A_i \\mid B)$ es la **probabilidad posterior**."
   ]
  },
  {
   "cell_type": "markdown",
   "id": "b4e3f90a-761a-4863-97ae-88e7c627c765",
   "metadata": {},
   "source": [
    "# Variable Aleatoria (Capítulo 3)"
   ]
  },
  {
   "cell_type": "markdown",
   "id": "9d069d9a-4912-433c-8fa4-b70b4daf1b2a",
   "metadata": {},
   "source": [
    "Una **variable aleatoria** es una función $X: \\Omega \\to \\mathbb{R}$ que asigna un número real $X(\\omega)$ a un evento aleatorio $\\omega$.\n",
    "\n",
    "Ejemplo: si $\\Omega = \\{\\text{cara}, \\text{cruz}\\}$, y $X$ representa si salió cruz, $X$ puede tomar valores $X(\\text{cara})=0$ o $X(\\text{cruz})=1$, dependiendo de un factor aleatorio."
   ]
  },
  {
   "cell_type": "code",
   "execution_count": 12,
   "id": "f80ac5a9-b76e-47b5-8591-05d3c0ad56c9",
   "metadata": {},
   "outputs": [
    {
     "data": {
      "text/plain": [
       "array([1, 1, 4, 4, 6, 5, 6, 5, 6, 3, 4, 1, 5, 5, 1, 6, 5, 3, 4, 1, 4, 5,\n",
       "       5, 1, 3, 2, 1, 2, 6, 2, 3, 6, 2, 6, 2, 3, 2, 2, 2, 1, 1, 1, 3, 6,\n",
       "       5, 2, 2, 3, 2, 1])"
      ]
     },
     "execution_count": 12,
     "metadata": {},
     "output_type": "execute_result"
    }
   ],
   "source": [
    "# vemos una variable aleatoria discreta uniforme, que representaría \n",
    "# 50 lanzamientos de un dado de 6 caras\n",
    "\n",
    "experimento = randint.rvs(1,7, size=50)\n",
    "experimento"
   ]
  },
  {
   "cell_type": "markdown",
   "id": "cae6415e-fc26-4f07-9e13-9ba271ed4626",
   "metadata": {},
   "source": [
    "Dada una variable $X$ y un subconjunto $A$ de números reales, se define a $X^{-1}(A)$ como\n",
    "\n",
    "$$X^{-1}(A) = \\{\\omega \\in \\Omega: X(\\omega) \\in A)\\}$$\n",
    "\n",
    "de tal forma que se definen\n",
    "\n",
    "$$P(X \\in A) = P(X^{-1}(A)) = P(\\{\\omega \\in \\Omega; X(\\omega) \\in A\\})$$\n",
    "$$P(X=x) = P(X^{-1}(A)) = P(\\{\\omega \\in \\Omega; X(\\omega) = x\\})$$\n",
    "\n",
    "donde $X$ denota a la variable aleatoria, y $x$ denota a un valor posible de $X$ (ej.: cruz)\n",
    "\n",
    "Ejemplo: en el lanzamiento de una moneda al aire dos veces, se eligió a $X$ como el número de caras. De esta manera, $P(X=0) = P(\\{\\text{cara } \\text{cara}\\}) = 1/4$, $P(X=1) = P(\\{\\text{cara } \\text{cruz}, \\text{cruz } \\text{cara}\\}) = 1/2$ y $P(X=2) = P(\\{\\text{cruz } \\text{cruz}\\}) = 1/4$"
   ]
  },
  {
   "cell_type": "markdown",
   "id": "02855ff8-d805-4625-9539-0296f1638ec1",
   "metadata": {},
   "source": [
    "Se define como **función de distribución acumulativa** (*cumulative distribution function*, CDF) a la función\n",
    "\n",
    "$$F_X(x) = P(X \\leq x)$$\n",
    "\n",
    "donde $F_X:\\mathbb{R} \\to [0,1]$, y $X$ es una variable aleatoria."
   ]
  },
  {
   "cell_type": "code",
   "execution_count": null,
   "id": "f772fbed-6de0-4bf0-a4c4-656fd96d7101",
   "metadata": {},
   "outputs": [],
   "source": []
  }
 ],
 "metadata": {
  "kernelspec": {
   "display_name": "Python 3",
   "language": "python",
   "name": "python3"
  },
  "language_info": {
   "codemirror_mode": {
    "name": "ipython",
    "version": 3
   },
   "file_extension": ".py",
   "mimetype": "text/x-python",
   "name": "python",
   "nbconvert_exporter": "python",
   "pygments_lexer": "ipython3",
   "version": "3.8.8"
  }
 },
 "nbformat": 4,
 "nbformat_minor": 5
}
